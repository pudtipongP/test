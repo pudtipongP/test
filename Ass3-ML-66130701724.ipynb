{
 "cells": [
  {
   "cell_type": "markdown",
   "id": "f290c31b-dacf-40b2-8db4-56b32b64f3f7",
   "metadata": {},
   "source": [
    "# Assignment 3:\n",
    "### รหัสนักศึกษา:\n",
    "### ชื่อ-นามสกุล:\n",
    "### หลักสูตร: "
   ]
  },
  {
   "cell_type": "markdown",
   "id": "07a417d9-e7fa-4c03-98bb-3f28f694858f",
   "metadata": {},
   "source": [
    "## User-defined Perceptron Class"
   ]
  },
  {
   "cell_type": "markdown",
   "id": "6bddf9e0-0703-4772-ae99-2eba5ec73b6f",
   "metadata": {},
   "source": [
    "### 2D small data"
   ]
  },
  {
   "cell_type": "markdown",
   "id": "568bc907-5055-4c87-80a4-92424f1b4562",
   "metadata": {},
   "source": [
    "1. สร้างข้อมูล 2 มิติ X จำนวน 10 จุด ประกอบด้วย 2 คลาส A(-1) และ คลาส B(1) ซึ่งข้อมูลทั้ง 2 คลาส แบ่งได้โดยเส้นตรง  โดยที่ คลาส เก็บในตัวแปร y  \n"
   ]
  },
  {
   "cell_type": "code",
   "execution_count": 3,
   "id": "176ff8af-c1e0-46e2-951a-bc8331ad21c6",
   "metadata": {},
   "outputs": [],
   "source": [
    "from MyDefinedFunc import PerceptronMe as Perceptron, plot_decision_regions\n",
    "import numpy as np"
   ]
  },
  {
   "cell_type": "code",
   "execution_count": 4,
   "id": "f731cd74-e5de-44f6-9057-46f71c0a4666",
   "metadata": {},
   "outputs": [
    {
     "data": {
      "text/plain": [
       "(array([[4.9, 1.4],\n",
       "        [4.7, 1.3],\n",
       "        [4.6, 1.5],\n",
       "        [5. , 1.4],\n",
       "        [5.4, 1.7],\n",
       "        [7. , 4.7],\n",
       "        [6.4, 4.5],\n",
       "        [6.9, 4.9],\n",
       "        [5.5, 4. ],\n",
       "        [6.5, 4.6]]),\n",
       " array([-1, -1, -1, -1, -1,  1,  1,  1,  1,  1]))"
      ]
     },
     "execution_count": 4,
     "metadata": {},
     "output_type": "execute_result"
    }
   ],
   "source": [
    "X = np.array([[4.9,1.4],[4.7,1.3],[4.6,1.5],[5.,1.4],[5.4,1.7],[7.,4.7],[6.4,4.5],[6.9,4.9],[5.5,4.],[6.5,4.6]])\n",
    "y = np.array([-1,-1,-1,-1,-1,1,1,1,1,1])\n",
    "X,y"
   ]
  },
  {
   "cell_type": "code",
   "execution_count": null,
   "id": "234c778e-7507-4d5a-ab72-11e64f905fd0",
   "metadata": {},
   "outputs": [],
   "source": []
  },
  {
   "cell_type": "markdown",
   "id": "8de6f0d2-81fb-4d34-a740-8c1a00f6c238",
   "metadata": {},
   "source": [
    "2. Plot ข้อมูล "
   ]
  },
  {
   "cell_type": "code",
   "execution_count": 5,
   "id": "e51b90da-c2d6-421c-8df1-a89a6349d68f",
   "metadata": {},
   "outputs": [
    {
     "data": {
      "image/png": "[encoded data removed]",
      "text/plain": [
       "<Figure size 432x288 with 1 Axes>"
      ]
     },
     "metadata": {
      "needs_background": "light"
     },
     "output_type": "display_data"
    }
   ],
   "source": [
    "import matplotlib.pyplot as plt\n",
    "import numpy as np\n",
    "\n",
    "# plot data\n",
    "plt.scatter(X[:5,0],X[:5,1], color='red', marker='o', label='classA')\n",
    "plt.scatter(X[5:10, 0],X[5:10, 1], color='blue', marker='x', label='classB')\n",
    "\n",
    "plt.xlabel('x1')\n",
    "plt.ylabel('x2')\n",
    "plt.legend(loc='upper left')\n",
    "\n",
    "plt.show()"
   ]
  },
  {
   "cell_type": "markdown",
   "id": "ad831531-c26f-4b16-83af-2dfa501d20e6",
   "metadata": {},
   "source": [
    "3. สร้างโมเดล Perceptron จากคลาสที่สร้างใช้เอง  "
   ]
  },
  {
   "cell_type": "code",
   "execution_count": 6,
   "id": "438efc07-943a-426c-829d-36ef4282a994",
   "metadata": {},
   "outputs": [
    {
     "name": "stdout",
     "output_type": "stream",
     "text": [
      "w= [ 0.01624345 -0.00611756 -0.00528172]\n",
      "--- Epoch:  1\n",
      "x =  [4.9 1.4] y_test =  -1 y_predict =  -1\n",
      "w =  [-0.00611756 -0.00528172] w0 =  0.01624345363663242\n",
      "x =  [4.7 1.3] y_test =  -1 y_predict =  -1\n",
      "w =  [-0.00611756 -0.00528172] w0 =  0.01624345363663242\n",
      "x =  [4.6 1.5] y_test =  -1 y_predict =  -1\n",
      "w =  [-0.00611756 -0.00528172] w0 =  0.01624345363663242\n",
      "x =  [5.  1.4] y_test =  -1 y_predict =  -1\n",
      "w =  [-0.00611756 -0.00528172] w0 =  0.01624345363663242\n",
      "x =  [5.4 1.7] y_test =  -1 y_predict =  -1\n",
      "w =  [-0.00611756 -0.00528172] w0 =  0.01624345363663242\n",
      "x =  [7.  4.7] y_test =  1 y_predict =  1\n",
      "w =  [1.39388244 0.93471828] w0 =  0.21624345363663244\n",
      "x =  [6.4 4.5] y_test =  1 y_predict =  1\n",
      "w =  [1.39388244 0.93471828] w0 =  0.21624345363663244\n",
      "x =  [6.9 4.9] y_test =  1 y_predict =  1\n",
      "w =  [1.39388244 0.93471828] w0 =  0.21624345363663244\n",
      "x =  [5.5 4. ] y_test =  1 y_predict =  1\n",
      "w =  [1.39388244 0.93471828] w0 =  0.21624345363663244\n",
      "x =  [6.5 4.6] y_test =  1 y_predict =  1\n",
      "w =  [1.39388244 0.93471828] w0 =  0.21624345363663244\n",
      "errors:  1\n",
      "--- Epoch:  2\n",
      "x =  [4.9 1.4] y_test =  -1 y_predict =  1\n",
      "w =  [0.41388244 0.65471828] w0 =  0.016243453636632432\n",
      "x =  [4.7 1.3] y_test =  -1 y_predict =  -1\n",
      "w =  [-0.52611756  0.39471828] w0 =  -0.18375654636336758\n",
      "x =  [4.6 1.5] y_test =  -1 y_predict =  -1\n",
      "w =  [-0.52611756  0.39471828] w0 =  -0.18375654636336758\n",
      "x =  [5.  1.4] y_test =  -1 y_predict =  -1\n",
      "w =  [-0.52611756  0.39471828] w0 =  -0.18375654636336758\n",
      "x =  [5.4 1.7] y_test =  -1 y_predict =  -1\n",
      "w =  [-0.52611756  0.39471828] w0 =  -0.18375654636336758\n",
      "x =  [7.  4.7] y_test =  1 y_predict =  1\n",
      "w =  [0.87388244 1.33471828] w0 =  0.016243453636632432\n",
      "x =  [6.4 4.5] y_test =  1 y_predict =  1\n",
      "w =  [0.87388244 1.33471828] w0 =  0.016243453636632432\n",
      "x =  [6.9 4.9] y_test =  1 y_predict =  1\n",
      "w =  [0.87388244 1.33471828] w0 =  0.016243453636632432\n",
      "x =  [5.5 4. ] y_test =  1 y_predict =  1\n",
      "w =  [0.87388244 1.33471828] w0 =  0.016243453636632432\n",
      "x =  [6.5 4.6] y_test =  1 y_predict =  1\n",
      "w =  [0.87388244 1.33471828] w0 =  0.016243453636632432\n",
      "errors:  3\n",
      "--- Epoch:  3\n",
      "x =  [4.9 1.4] y_test =  -1 y_predict =  1\n",
      "w =  [-0.10611756  1.05471828] w0 =  -0.18375654636336758\n",
      "x =  [4.7 1.3] y_test =  -1 y_predict =  -1\n",
      "w =  [-1.04611756  0.79471828] w0 =  -0.3837565463633676\n",
      "x =  [4.6 1.5] y_test =  -1 y_predict =  -1\n",
      "w =  [-1.04611756  0.79471828] w0 =  -0.3837565463633676\n",
      "x =  [5.  1.4] y_test =  -1 y_predict =  -1\n",
      "w =  [-1.04611756  0.79471828] w0 =  -0.3837565463633676\n",
      "x =  [5.4 1.7] y_test =  -1 y_predict =  -1\n",
      "w =  [-1.04611756  0.79471828] w0 =  -0.3837565463633676\n",
      "x =  [7.  4.7] y_test =  1 y_predict =  1\n",
      "w =  [0.35388244 1.73471828] w0 =  -0.18375654636336758\n",
      "x =  [6.4 4.5] y_test =  1 y_predict =  1\n",
      "w =  [0.35388244 1.73471828] w0 =  -0.18375654636336758\n",
      "x =  [6.9 4.9] y_test =  1 y_predict =  1\n",
      "w =  [0.35388244 1.73471828] w0 =  -0.18375654636336758\n",
      "x =  [5.5 4. ] y_test =  1 y_predict =  1\n",
      "w =  [0.35388244 1.73471828] w0 =  -0.18375654636336758\n",
      "x =  [6.5 4.6] y_test =  1 y_predict =  1\n",
      "w =  [0.35388244 1.73471828] w0 =  -0.18375654636336758\n",
      "errors:  3\n",
      "--- Epoch:  4\n",
      "x =  [4.9 1.4] y_test =  -1 y_predict =  -1\n",
      "w =  [-0.62611756  1.45471828] w0 =  -0.3837565463633676\n",
      "x =  [4.7 1.3] y_test =  -1 y_predict =  -1\n",
      "w =  [-0.62611756  1.45471828] w0 =  -0.3837565463633676\n",
      "x =  [4.6 1.5] y_test =  -1 y_predict =  -1\n",
      "w =  [-0.62611756  1.45471828] w0 =  -0.3837565463633676\n",
      "x =  [5.  1.4] y_test =  -1 y_predict =  -1\n",
      "w =  [-0.62611756  1.45471828] w0 =  -0.3837565463633676\n",
      "x =  [5.4 1.7] y_test =  -1 y_predict =  -1\n",
      "w =  [-0.62611756  1.45471828] w0 =  -0.3837565463633676\n",
      "x =  [7.  4.7] y_test =  1 y_predict =  1\n",
      "w =  [-0.62611756  1.45471828] w0 =  -0.3837565463633676\n",
      "x =  [6.4 4.5] y_test =  1 y_predict =  1\n",
      "w =  [-0.62611756  1.45471828] w0 =  -0.3837565463633676\n",
      "x =  [6.9 4.9] y_test =  1 y_predict =  1\n",
      "w =  [-0.62611756  1.45471828] w0 =  -0.3837565463633676\n",
      "x =  [5.5 4. ] y_test =  1 y_predict =  1\n",
      "w =  [-0.62611756  1.45471828] w0 =  -0.3837565463633676\n",
      "x =  [6.5 4.6] y_test =  1 y_predict =  1\n",
      "w =  [-0.62611756  1.45471828] w0 =  -0.3837565463633676\n",
      "errors:  1\n",
      "--- Epoch:  5\n",
      "x =  [4.9 1.4] y_test =  -1 y_predict =  -1\n",
      "w =  [-0.62611756  1.45471828] w0 =  -0.3837565463633676\n",
      "x =  [4.7 1.3] y_test =  -1 y_predict =  -1\n",
      "w =  [-0.62611756  1.45471828] w0 =  -0.3837565463633676\n",
      "x =  [4.6 1.5] y_test =  -1 y_predict =  -1\n",
      "w =  [-0.62611756  1.45471828] w0 =  -0.3837565463633676\n",
      "x =  [5.  1.4] y_test =  -1 y_predict =  -1\n",
      "w =  [-0.62611756  1.45471828] w0 =  -0.3837565463633676\n",
      "x =  [5.4 1.7] y_test =  -1 y_predict =  -1\n",
      "w =  [-0.62611756  1.45471828] w0 =  -0.3837565463633676\n",
      "x =  [7.  4.7] y_test =  1 y_predict =  1\n",
      "w =  [-0.62611756  1.45471828] w0 =  -0.3837565463633676\n",
      "x =  [6.4 4.5] y_test =  1 y_predict =  1\n",
      "w =  [-0.62611756  1.45471828] w0 =  -0.3837565463633676\n",
      "x =  [6.9 4.9] y_test =  1 y_predict =  1\n",
      "w =  [-0.62611756  1.45471828] w0 =  -0.3837565463633676\n",
      "x =  [5.5 4. ] y_test =  1 y_predict =  1\n",
      "w =  [-0.62611756  1.45471828] w0 =  -0.3837565463633676\n",
      "x =  [6.5 4.6] y_test =  1 y_predict =  1\n",
      "w =  [-0.62611756  1.45471828] w0 =  -0.3837565463633676\n",
      "errors:  0\n",
      "--- Epoch:  6\n",
      "x =  [4.9 1.4] y_test =  -1 y_predict =  -1\n",
      "w =  [-0.62611756  1.45471828] w0 =  -0.3837565463633676\n",
      "x =  [4.7 1.3] y_test =  -1 y_predict =  -1\n",
      "w =  [-0.62611756  1.45471828] w0 =  -0.3837565463633676\n",
      "x =  [4.6 1.5] y_test =  -1 y_predict =  -1\n",
      "w =  [-0.62611756  1.45471828] w0 =  -0.3837565463633676\n",
      "x =  [5.  1.4] y_test =  -1 y_predict =  -1\n",
      "w =  [-0.62611756  1.45471828] w0 =  -0.3837565463633676\n",
      "x =  [5.4 1.7] y_test =  -1 y_predict =  -1\n",
      "w =  [-0.62611756  1.45471828] w0 =  -0.3837565463633676\n",
      "x =  [7.  4.7] y_test =  1 y_predict =  1\n",
      "w =  [-0.62611756  1.45471828] w0 =  -0.3837565463633676\n",
      "x =  [6.4 4.5] y_test =  1 y_predict =  1\n",
      "w =  [-0.62611756  1.45471828] w0 =  -0.3837565463633676\n",
      "x =  [6.9 4.9] y_test =  1 y_predict =  1\n",
      "w =  [-0.62611756  1.45471828] w0 =  -0.3837565463633676\n",
      "x =  [5.5 4. ] y_test =  1 y_predict =  1\n",
      "w =  [-0.62611756  1.45471828] w0 =  -0.3837565463633676\n",
      "x =  [6.5 4.6] y_test =  1 y_predict =  1\n",
      "w =  [-0.62611756  1.45471828] w0 =  -0.3837565463633676\n",
      "errors:  0\n",
      "--- Epoch:  7\n",
      "x =  [4.9 1.4] y_test =  -1 y_predict =  -1\n",
      "w =  [-0.62611756  1.45471828] w0 =  -0.3837565463633676\n",
      "x =  [4.7 1.3] y_test =  -1 y_predict =  -1\n",
      "w =  [-0.62611756  1.45471828] w0 =  -0.3837565463633676\n",
      "x =  [4.6 1.5] y_test =  -1 y_predict =  -1\n",
      "w =  [-0.62611756  1.45471828] w0 =  -0.3837565463633676\n",
      "x =  [5.  1.4] y_test =  -1 y_predict =  -1\n",
      "w =  [-0.62611756  1.45471828] w0 =  -0.3837565463633676\n",
      "x =  [5.4 1.7] y_test =  -1 y_predict =  -1\n",
      "w =  [-0.62611756  1.45471828] w0 =  -0.3837565463633676\n",
      "x =  [7.  4.7] y_test =  1 y_predict =  1\n",
      "w =  [-0.62611756  1.45471828] w0 =  -0.3837565463633676\n",
      "x =  [6.4 4.5] y_test =  1 y_predict =  1\n",
      "w =  [-0.62611756  1.45471828] w0 =  -0.3837565463633676\n",
      "x =  [6.9 4.9] y_test =  1 y_predict =  1\n",
      "w =  [-0.62611756  1.45471828] w0 =  -0.3837565463633676\n",
      "x =  [5.5 4. ] y_test =  1 y_predict =  1\n",
      "w =  [-0.62611756  1.45471828] w0 =  -0.3837565463633676\n",
      "x =  [6.5 4.6] y_test =  1 y_predict =  1\n",
      "w =  [-0.62611756  1.45471828] w0 =  -0.3837565463633676\n",
      "errors:  0\n",
      "--- Epoch:  8\n",
      "x =  [4.9 1.4] y_test =  -1 y_predict =  -1\n",
      "w =  [-0.62611756  1.45471828] w0 =  -0.3837565463633676\n",
      "x =  [4.7 1.3] y_test =  -1 y_predict =  -1\n",
      "w =  [-0.62611756  1.45471828] w0 =  -0.3837565463633676\n",
      "x =  [4.6 1.5] y_test =  -1 y_predict =  -1\n",
      "w =  [-0.62611756  1.45471828] w0 =  -0.3837565463633676\n",
      "x =  [5.  1.4] y_test =  -1 y_predict =  -1\n",
      "w =  [-0.62611756  1.45471828] w0 =  -0.3837565463633676\n",
      "x =  [5.4 1.7] y_test =  -1 y_predict =  -1\n",
      "w =  [-0.62611756  1.45471828] w0 =  -0.3837565463633676\n",
      "x =  [7.  4.7] y_test =  1 y_predict =  1\n",
      "w =  [-0.62611756  1.45471828] w0 =  -0.3837565463633676\n",
      "x =  [6.4 4.5] y_test =  1 y_predict =  1\n",
      "w =  [-0.62611756  1.45471828] w0 =  -0.3837565463633676\n",
      "x =  [6.9 4.9] y_test =  1 y_predict =  1\n",
      "w =  [-0.62611756  1.45471828] w0 =  -0.3837565463633676\n",
      "x =  [5.5 4. ] y_test =  1 y_predict =  1\n",
      "w =  [-0.62611756  1.45471828] w0 =  -0.3837565463633676\n",
      "x =  [6.5 4.6] y_test =  1 y_predict =  1\n",
      "w =  [-0.62611756  1.45471828] w0 =  -0.3837565463633676\n",
      "errors:  0\n",
      "--- Epoch:  9\n",
      "x =  [4.9 1.4] y_test =  -1 y_predict =  -1\n",
      "w =  [-0.62611756  1.45471828] w0 =  -0.3837565463633676\n",
      "x =  [4.7 1.3] y_test =  -1 y_predict =  -1\n",
      "w =  [-0.62611756  1.45471828] w0 =  -0.3837565463633676\n",
      "x =  [4.6 1.5] y_test =  -1 y_predict =  -1\n",
      "w =  [-0.62611756  1.45471828] w0 =  -0.3837565463633676\n",
      "x =  [5.  1.4] y_test =  -1 y_predict =  -1\n",
      "w =  [-0.62611756  1.45471828] w0 =  -0.3837565463633676\n",
      "x =  [5.4 1.7] y_test =  -1 y_predict =  -1\n",
      "w =  [-0.62611756  1.45471828] w0 =  -0.3837565463633676\n",
      "x =  [7.  4.7] y_test =  1 y_predict =  1\n",
      "w =  [-0.62611756  1.45471828] w0 =  -0.3837565463633676\n",
      "x =  [6.4 4.5] y_test =  1 y_predict =  1\n",
      "w =  [-0.62611756  1.45471828] w0 =  -0.3837565463633676\n",
      "x =  [6.9 4.9] y_test =  1 y_predict =  1\n",
      "w =  [-0.62611756  1.45471828] w0 =  -0.3837565463633676\n",
      "x =  [5.5 4. ] y_test =  1 y_predict =  1\n",
      "w =  [-0.62611756  1.45471828] w0 =  -0.3837565463633676\n",
      "x =  [6.5 4.6] y_test =  1 y_predict =  1\n",
      "w =  [-0.62611756  1.45471828] w0 =  -0.3837565463633676\n",
      "errors:  0\n",
      "--- Epoch:  10\n",
      "x =  [4.9 1.4] y_test =  -1 y_predict =  -1\n",
      "w =  [-0.62611756  1.45471828] w0 =  -0.3837565463633676\n",
      "x =  [4.7 1.3] y_test =  -1 y_predict =  -1\n",
      "w =  [-0.62611756  1.45471828] w0 =  -0.3837565463633676\n",
      "x =  [4.6 1.5] y_test =  -1 y_predict =  -1\n",
      "w =  [-0.62611756  1.45471828] w0 =  -0.3837565463633676\n",
      "x =  [5.  1.4] y_test =  -1 y_predict =  -1\n",
      "w =  [-0.62611756  1.45471828] w0 =  -0.3837565463633676\n",
      "x =  [5.4 1.7] y_test =  -1 y_predict =  -1\n",
      "w =  [-0.62611756  1.45471828] w0 =  -0.3837565463633676\n",
      "x =  [7.  4.7] y_test =  1 y_predict =  1\n",
      "w =  [-0.62611756  1.45471828] w0 =  -0.3837565463633676\n",
      "x =  [6.4 4.5] y_test =  1 y_predict =  1\n",
      "w =  [-0.62611756  1.45471828] w0 =  -0.3837565463633676\n",
      "x =  [6.9 4.9] y_test =  1 y_predict =  1\n",
      "w =  [-0.62611756  1.45471828] w0 =  -0.3837565463633676\n",
      "x =  [5.5 4. ] y_test =  1 y_predict =  1\n",
      "w =  [-0.62611756  1.45471828] w0 =  -0.3837565463633676\n",
      "x =  [6.5 4.6] y_test =  1 y_predict =  1\n",
      "w =  [-0.62611756  1.45471828] w0 =  -0.3837565463633676\n",
      "errors:  0\n",
      "--- Epoch:  11\n",
      "x =  [4.9 1.4] y_test =  -1 y_predict =  -1\n",
      "w =  [-0.62611756  1.45471828] w0 =  -0.3837565463633676\n",
      "x =  [4.7 1.3] y_test =  -1 y_predict =  -1\n",
      "w =  [-0.62611756  1.45471828] w0 =  -0.3837565463633676\n",
      "x =  [4.6 1.5] y_test =  -1 y_predict =  -1\n",
      "w =  [-0.62611756  1.45471828] w0 =  -0.3837565463633676\n",
      "x =  [5.  1.4] y_test =  -1 y_predict =  -1\n",
      "w =  [-0.62611756  1.45471828] w0 =  -0.3837565463633676\n",
      "x =  [5.4 1.7] y_test =  -1 y_predict =  -1\n",
      "w =  [-0.62611756  1.45471828] w0 =  -0.3837565463633676\n",
      "x =  [7.  4.7] y_test =  1 y_predict =  1\n",
      "w =  [-0.62611756  1.45471828] w0 =  -0.3837565463633676\n",
      "x =  [6.4 4.5] y_test =  1 y_predict =  1\n",
      "w =  [-0.62611756  1.45471828] w0 =  -0.3837565463633676\n",
      "x =  [6.9 4.9] y_test =  1 y_predict =  1\n",
      "w =  [-0.62611756  1.45471828] w0 =  -0.3837565463633676\n",
      "x =  [5.5 4. ] y_test =  1 y_predict =  1\n",
      "w =  [-0.62611756  1.45471828] w0 =  -0.3837565463633676\n",
      "x =  [6.5 4.6] y_test =  1 y_predict =  1\n",
      "w =  [-0.62611756  1.45471828] w0 =  -0.3837565463633676\n",
      "errors:  0\n",
      "--- Epoch:  12\n",
      "x =  [4.9 1.4] y_test =  -1 y_predict =  -1\n",
      "w =  [-0.62611756  1.45471828] w0 =  -0.3837565463633676\n",
      "x =  [4.7 1.3] y_test =  -1 y_predict =  -1\n",
      "w =  [-0.62611756  1.45471828] w0 =  -0.3837565463633676\n",
      "x =  [4.6 1.5] y_test =  -1 y_predict =  -1\n",
      "w =  [-0.62611756  1.45471828] w0 =  -0.3837565463633676\n",
      "x =  [5.  1.4] y_test =  -1 y_predict =  -1\n",
      "w =  [-0.62611756  1.45471828] w0 =  -0.3837565463633676\n",
      "x =  [5.4 1.7] y_test =  -1 y_predict =  -1\n",
      "w =  [-0.62611756  1.45471828] w0 =  -0.3837565463633676\n",
      "x =  [7.  4.7] y_test =  1 y_predict =  1\n",
      "w =  [-0.62611756  1.45471828] w0 =  -0.3837565463633676\n",
      "x =  [6.4 4.5] y_test =  1 y_predict =  1\n",
      "w =  [-0.62611756  1.45471828] w0 =  -0.3837565463633676\n",
      "x =  [6.9 4.9] y_test =  1 y_predict =  1\n",
      "w =  [-0.62611756  1.45471828] w0 =  -0.3837565463633676\n",
      "x =  [5.5 4. ] y_test =  1 y_predict =  1\n",
      "w =  [-0.62611756  1.45471828] w0 =  -0.3837565463633676\n",
      "x =  [6.5 4.6] y_test =  1 y_predict =  1\n",
      "w =  [-0.62611756  1.45471828] w0 =  -0.3837565463633676\n",
      "errors:  0\n",
      "--- Epoch:  13\n",
      "x =  [4.9 1.4] y_test =  -1 y_predict =  -1\n",
      "w =  [-0.62611756  1.45471828] w0 =  -0.3837565463633676\n",
      "x =  [4.7 1.3] y_test =  -1 y_predict =  -1\n",
      "w =  [-0.62611756  1.45471828] w0 =  -0.3837565463633676\n",
      "x =  [4.6 1.5] y_test =  -1 y_predict =  -1\n",
      "w =  [-0.62611756  1.45471828] w0 =  -0.3837565463633676\n",
      "x =  [5.  1.4] y_test =  -1 y_predict =  -1\n",
      "w =  [-0.62611756  1.45471828] w0 =  -0.3837565463633676\n",
      "x =  [5.4 1.7] y_test =  -1 y_predict =  -1\n",
      "w =  [-0.62611756  1.45471828] w0 =  -0.3837565463633676\n",
      "x =  [7.  4.7] y_test =  1 y_predict =  1\n",
      "w =  [-0.62611756  1.45471828] w0 =  -0.3837565463633676\n",
      "x =  [6.4 4.5] y_test =  1 y_predict =  1\n",
      "w =  [-0.62611756  1.45471828] w0 =  -0.3837565463633676\n",
      "x =  [6.9 4.9] y_test =  1 y_predict =  1\n",
      "w =  [-0.62611756  1.45471828] w0 =  -0.3837565463633676\n",
      "x =  [5.5 4. ] y_test =  1 y_predict =  1\n",
      "w =  [-0.62611756  1.45471828] w0 =  -0.3837565463633676\n",
      "x =  [6.5 4.6] y_test =  1 y_predict =  1\n",
      "w =  [-0.62611756  1.45471828] w0 =  -0.3837565463633676\n",
      "errors:  0\n",
      "--- Epoch:  14\n",
      "x =  [4.9 1.4] y_test =  -1 y_predict =  -1\n",
      "w =  [-0.62611756  1.45471828] w0 =  -0.3837565463633676\n",
      "x =  [4.7 1.3] y_test =  -1 y_predict =  -1\n",
      "w =  [-0.62611756  1.45471828] w0 =  -0.3837565463633676\n",
      "x =  [4.6 1.5] y_test =  -1 y_predict =  -1\n",
      "w =  [-0.62611756  1.45471828] w0 =  -0.3837565463633676\n",
      "x =  [5.  1.4] y_test =  -1 y_predict =  -1\n",
      "w =  [-0.62611756  1.45471828] w0 =  -0.3837565463633676\n",
      "x =  [5.4 1.7] y_test =  -1 y_predict =  -1\n",
      "w =  [-0.62611756  1.45471828] w0 =  -0.3837565463633676\n",
      "x =  [7.  4.7] y_test =  1 y_predict =  1\n",
      "w =  [-0.62611756  1.45471828] w0 =  -0.3837565463633676\n",
      "x =  [6.4 4.5] y_test =  1 y_predict =  1\n",
      "w =  [-0.62611756  1.45471828] w0 =  -0.3837565463633676\n",
      "x =  [6.9 4.9] y_test =  1 y_predict =  1\n",
      "w =  [-0.62611756  1.45471828] w0 =  -0.3837565463633676\n",
      "x =  [5.5 4. ] y_test =  1 y_predict =  1\n",
      "w =  [-0.62611756  1.45471828] w0 =  -0.3837565463633676\n",
      "x =  [6.5 4.6] y_test =  1 y_predict =  1\n",
      "w =  [-0.62611756  1.45471828] w0 =  -0.3837565463633676\n",
      "errors:  0\n",
      "--- Epoch:  15\n",
      "x =  [4.9 1.4] y_test =  -1 y_predict =  -1\n",
      "w =  [-0.62611756  1.45471828] w0 =  -0.3837565463633676\n",
      "x =  [4.7 1.3] y_test =  -1 y_predict =  -1\n",
      "w =  [-0.62611756  1.45471828] w0 =  -0.3837565463633676\n",
      "x =  [4.6 1.5] y_test =  -1 y_predict =  -1\n",
      "w =  [-0.62611756  1.45471828] w0 =  -0.3837565463633676\n",
      "x =  [5.  1.4] y_test =  -1 y_predict =  -1\n",
      "w =  [-0.62611756  1.45471828] w0 =  -0.3837565463633676\n",
      "x =  [5.4 1.7] y_test =  -1 y_predict =  -1\n",
      "w =  [-0.62611756  1.45471828] w0 =  -0.3837565463633676\n",
      "x =  [7.  4.7] y_test =  1 y_predict =  1\n",
      "w =  [-0.62611756  1.45471828] w0 =  -0.3837565463633676\n",
      "x =  [6.4 4.5] y_test =  1 y_predict =  1\n",
      "w =  [-0.62611756  1.45471828] w0 =  -0.3837565463633676\n",
      "x =  [6.9 4.9] y_test =  1 y_predict =  1\n",
      "w =  [-0.62611756  1.45471828] w0 =  -0.3837565463633676\n",
      "x =  [5.5 4. ] y_test =  1 y_predict =  1\n",
      "w =  [-0.62611756  1.45471828] w0 =  -0.3837565463633676\n",
      "x =  [6.5 4.6] y_test =  1 y_predict =  1\n",
      "w =  [-0.62611756  1.45471828] w0 =  -0.3837565463633676\n",
      "errors:  0\n"
     ]
    },
    {
     "data": {
      "text/plain": [
       "<MyDefinedFunc.PerceptronMe at 0x1531c487a00>"
      ]
     },
     "execution_count": 6,
     "metadata": {},
     "output_type": "execute_result"
    }
   ],
   "source": [
    "model = Perceptron(n_iter = 15 , eta = 0.1)\n",
    "model.fit(X,y)"
   ]
  },
  {
   "cell_type": "markdown",
   "id": "ea2d80e4-c352-475b-a407-df940cb09af2",
   "metadata": {},
   "source": [
    "4. ทดสอบโมเดล"
   ]
  },
  {
   "cell_type": "code",
   "execution_count": 7,
   "id": "9d2358ce-1c05-49bf-b48f-4c367d5a91c3",
   "metadata": {},
   "outputs": [
    {
     "data": {
      "text/plain": [
       "array([-1,  1])"
      ]
     },
     "execution_count": 7,
     "metadata": {},
     "output_type": "execute_result"
    }
   ],
   "source": [
    "model.predict(5.5)"
   ]
  },
  {
   "cell_type": "markdown",
   "id": "93ae652a-0b06-45c6-8958-d32bff0ab0b0",
   "metadata": {},
   "source": [
    "5. แสดงกราฟค่า error ในแต่ละ epoch "
   ]
  },
  {
   "cell_type": "code",
   "execution_count": null,
   "id": "f5193e44-ecee-49aa-a64c-6598718fd71a",
   "metadata": {},
   "outputs": [],
   "source": []
  },
  {
   "cell_type": "markdown",
   "id": "45f1c524-7464-47b0-af92-2b9aa917beb3",
   "metadata": {},
   "source": [
    "6. แสดงกราฟพื้นที่การตัดสินใจ "
   ]
  },
  {
   "cell_type": "markdown",
   "id": "3947396f-1096-42a9-8dd8-fd97f88769ca",
   "metadata": {},
   "source": [
    "## 2D 100 points "
   ]
  },
  {
   "cell_type": "code",
   "execution_count": 8,
   "id": "fce94316-4b9f-41c3-bbce-a8c6b706dc73",
   "metadata": {},
   "outputs": [
    {
     "name": "stdout",
     "output_type": "stream",
     "text": [
      "URL: https://archive.ics.uci.edu/ml/machine-learning-databases/iris/iris.data\n"
     ]
    },
    {
     "data": {
      "text/html": [
       "<div>\n",
       "<style scoped>\n",
       "    .dataframe tbody tr th:only-of-type {\n",
       "        vertical-align: middle;\n",
       "    }\n",
       "\n",
       "    .dataframe tbody tr th {\n",
       "        vertical-align: top;\n",
       "    }\n",
       "\n",
       "    .dataframe thead th {\n",
       "        text-align: right;\n",
       "    }\n",
       "</style>\n",
       "<table border=\"1\" class=\"dataframe\">\n",
       "  <thead>\n",
       "    <tr style=\"text-align: right;\">\n",
       "      <th></th>\n",
       "      <th>0</th>\n",
       "      <th>1</th>\n",
       "      <th>2</th>\n",
       "      <th>3</th>\n",
       "      <th>4</th>\n",
       "    </tr>\n",
       "  </thead>\n",
       "  <tbody>\n",
       "    <tr>\n",
       "      <th>145</th>\n",
       "      <td>6.7</td>\n",
       "      <td>3.0</td>\n",
       "      <td>5.2</td>\n",
       "      <td>2.3</td>\n",
       "      <td>Iris-virginica</td>\n",
       "    </tr>\n",
       "    <tr>\n",
       "      <th>146</th>\n",
       "      <td>6.3</td>\n",
       "      <td>2.5</td>\n",
       "      <td>5.0</td>\n",
       "      <td>1.9</td>\n",
       "      <td>Iris-virginica</td>\n",
       "    </tr>\n",
       "    <tr>\n",
       "      <th>147</th>\n",
       "      <td>6.5</td>\n",
       "      <td>3.0</td>\n",
       "      <td>5.2</td>\n",
       "      <td>2.0</td>\n",
       "      <td>Iris-virginica</td>\n",
       "    </tr>\n",
       "    <tr>\n",
       "      <th>148</th>\n",
       "      <td>6.2</td>\n",
       "      <td>3.4</td>\n",
       "      <td>5.4</td>\n",
       "      <td>2.3</td>\n",
       "      <td>Iris-virginica</td>\n",
       "    </tr>\n",
       "    <tr>\n",
       "      <th>149</th>\n",
       "      <td>5.9</td>\n",
       "      <td>3.0</td>\n",
       "      <td>5.1</td>\n",
       "      <td>1.8</td>\n",
       "      <td>Iris-virginica</td>\n",
       "    </tr>\n",
       "  </tbody>\n",
       "</table>\n",
       "</div>"
      ],
      "text/plain": [
       "       0    1    2    3               4\n",
       "145  6.7  3.0  5.2  2.3  Iris-virginica\n",
       "146  6.3  2.5  5.0  1.9  Iris-virginica\n",
       "147  6.5  3.0  5.2  2.0  Iris-virginica\n",
       "148  6.2  3.4  5.4  2.3  Iris-virginica\n",
       "149  5.9  3.0  5.1  1.8  Iris-virginica"
      ]
     },
     "execution_count": 8,
     "metadata": {},
     "output_type": "execute_result"
    }
   ],
   "source": [
    "import pandas as pd\n",
    "\n",
    "s = 'https://archive.ics.uci.edu/ml/machine-learning-databases/iris/iris.data'\n",
    "print('URL:', s)\n",
    "df = pd.read_csv(s,header=None)\n",
    "df.tail()\n",
    "\n",
    "# df = pd.read_csv('iris.data', header=None)\n",
    "# df.tail()"
   ]
  },
  {
   "cell_type": "code",
   "execution_count": 9,
   "id": "d2894826-9909-4c9e-9e1d-d1f746a50069",
   "metadata": {},
   "outputs": [
    {
     "data": {
      "image/png": "[encoded data removed]",
      "text/plain": [
       "<Figure size 432x288 with 1 Axes>"
      ]
     },
     "metadata": {
      "needs_background": "light"
     },
     "output_type": "display_data"
    }
   ],
   "source": [
    "import matplotlib.pyplot as plt\n",
    "import numpy as np\n",
    "\n",
    "# select setosa and versicolor\n",
    "y = df.iloc[0:100, 4].values\n",
    "y = np.where(y == 'Iris-setosa', -1, 1)\n",
    "\n",
    "# extract sepal length and petal length\n",
    "X = df.iloc[0:100, [0, 2]].values\n",
    "\n",
    "# plot data\n",
    "plt.scatter(X[:50, 0], X[:50, 1],\n",
    "            color='red', marker='o', label='setosa')\n",
    "plt.scatter(X[50:100, 0], X[50:100, 1],\n",
    "            color='blue', marker='x', label='versicolor')\n",
    "\n",
    "plt.xlabel('sepal length [cm]')\n",
    "plt.ylabel('petal length [cm]')\n",
    "plt.legend(loc='upper left')\n",
    "plt.show()"
   ]
  },
  {
   "cell_type": "markdown",
   "id": "f1875017-e830-486b-94f6-0a62c7d4dfcb",
   "metadata": {},
   "source": [
    "1. สร้างโมเดล Perceptron จากคลาสที่สร้างใช้เอง  \n",
    "2. ทดสอบโมเดล\n",
    "3. แสดงกราฟค่า error ในแต่ละ epoch\n",
    "4. แสดงกราฟพื้นที่การตัดสินใจ"
   ]
  },
  {
   "cell_type": "markdown",
   "id": "a7b5a56c-12e0-42e3-a0e2-e84027736f1c",
   "metadata": {},
   "source": []
  },
  {
   "cell_type": "markdown",
   "id": "24912727-c484-40df-9a88-1cf27999418c",
   "metadata": {},
   "source": [
    "## Iris Data - 4D"
   ]
  },
  {
   "cell_type": "code",
   "execution_count": 16,
   "id": "ddd9ec86-a93c-418b-9133-5ac3629919d9",
   "metadata": {},
   "outputs": [
    {
     "name": "stdout",
     "output_type": "stream",
     "text": [
      "URL: https://archive.ics.uci.edu/ml/machine-learning-databases/iris/iris.data\n"
     ]
    },
    {
     "data": {
      "text/html": [
       "<div>\n",
       "<style scoped>\n",
       "    .dataframe tbody tr th:only-of-type {\n",
       "        vertical-align: middle;\n",
       "    }\n",
       "\n",
       "    .dataframe tbody tr th {\n",
       "        vertical-align: top;\n",
       "    }\n",
       "\n",
       "    .dataframe thead th {\n",
       "        text-align: right;\n",
       "    }\n",
       "</style>\n",
       "<table border=\"1\" class=\"dataframe\">\n",
       "  <thead>\n",
       "    <tr style=\"text-align: right;\">\n",
       "      <th></th>\n",
       "      <th>0</th>\n",
       "      <th>1</th>\n",
       "      <th>2</th>\n",
       "      <th>3</th>\n",
       "      <th>4</th>\n",
       "    </tr>\n",
       "  </thead>\n",
       "  <tbody>\n",
       "    <tr>\n",
       "      <th>145</th>\n",
       "      <td>6.7</td>\n",
       "      <td>3.0</td>\n",
       "      <td>5.2</td>\n",
       "      <td>2.3</td>\n",
       "      <td>Iris-virginica</td>\n",
       "    </tr>\n",
       "    <tr>\n",
       "      <th>146</th>\n",
       "      <td>6.3</td>\n",
       "      <td>2.5</td>\n",
       "      <td>5.0</td>\n",
       "      <td>1.9</td>\n",
       "      <td>Iris-virginica</td>\n",
       "    </tr>\n",
       "    <tr>\n",
       "      <th>147</th>\n",
       "      <td>6.5</td>\n",
       "      <td>3.0</td>\n",
       "      <td>5.2</td>\n",
       "      <td>2.0</td>\n",
       "      <td>Iris-virginica</td>\n",
       "    </tr>\n",
       "    <tr>\n",
       "      <th>148</th>\n",
       "      <td>6.2</td>\n",
       "      <td>3.4</td>\n",
       "      <td>5.4</td>\n",
       "      <td>2.3</td>\n",
       "      <td>Iris-virginica</td>\n",
       "    </tr>\n",
       "    <tr>\n",
       "      <th>149</th>\n",
       "      <td>5.9</td>\n",
       "      <td>3.0</td>\n",
       "      <td>5.1</td>\n",
       "      <td>1.8</td>\n",
       "      <td>Iris-virginica</td>\n",
       "    </tr>\n",
       "  </tbody>\n",
       "</table>\n",
       "</div>"
      ],
      "text/plain": [
       "       0    1    2    3               4\n",
       "145  6.7  3.0  5.2  2.3  Iris-virginica\n",
       "146  6.3  2.5  5.0  1.9  Iris-virginica\n",
       "147  6.5  3.0  5.2  2.0  Iris-virginica\n",
       "148  6.2  3.4  5.4  2.3  Iris-virginica\n",
       "149  5.9  3.0  5.1  1.8  Iris-virginica"
      ]
     },
     "execution_count": 16,
     "metadata": {},
     "output_type": "execute_result"
    }
   ],
   "source": [
    "import pandas as pd\n",
    "s = 'https://archive.ics.uci.edu/ml/machine-learning-databases/iris/iris.data'\n",
    "print('URL:', s)\n",
    "\n",
    "df = pd.read_csv(s,header=None)\n",
    "df.tail()"
   ]
  },
  {
   "cell_type": "code",
   "execution_count": 17,
   "id": "38fea3a1-3d57-420f-88ca-b2227580cf8c",
   "metadata": {},
   "outputs": [],
   "source": [
    "# select setosa and versicolor\n",
    "y = df.iloc[0:100, 4].values\n",
    "y = np.where(y == 'Iris-setosa', -1, 1)\n",
    "\n",
    "# extract sepal length and petal length\n",
    "X = df.iloc[0:100, 0:4].values"
   ]
  },
  {
   "cell_type": "markdown",
   "id": "8641bb19-c7dc-4dcc-83f4-69d0605c4514",
   "metadata": {},
   "source": [
    "1. สร้างโมเดล Perceptron จากคลาสที่สร้างใช้เอง  \n",
    "2. ทดสอบโมเดล\n",
    "3. แสดงกราฟค่า error ในแต่ละ epoch"
   ]
  },
  {
   "cell_type": "code",
   "execution_count": 18,
   "id": "3f033606-4e62-402d-b200-cf453a198bc1",
   "metadata": {},
   "outputs": [],
   "source": [
    "from MyDefinedFunc import PerceptronMe"
   ]
  },
  {
   "cell_type": "code",
   "execution_count": 19,
   "id": "7419156e-9afc-4ef1-8888-7e0418a6309a",
   "metadata": {},
   "outputs": [],
   "source": [
    "from sklearn.model_selection import train_test_split"
   ]
  },
  {
   "cell_type": "code",
   "execution_count": 24,
   "id": "781f5213-da3f-4a8f-8e34-05415d9523bc",
   "metadata": {},
   "outputs": [],
   "source": [
    "X_train , X_test , y_train , y_test = train_test_split(X,y , test_size=0.3 ,random_state=42)"
   ]
  },
  {
   "cell_type": "code",
   "execution_count": 26,
   "id": "8d722fb5-b16f-4d6a-a7a6-c3541d96bc95",
   "metadata": {},
   "outputs": [
    {
     "data": {
      "text/plain": [
       "(70, 4)"
      ]
     },
     "execution_count": 26,
     "metadata": {},
     "output_type": "execute_result"
    }
   ],
   "source": [
    "X_train.shape"
   ]
  },
  {
   "cell_type": "code",
   "execution_count": 28,
   "id": "bb17b29d-d204-4976-a2f9-993d9eb26072",
   "metadata": {},
   "outputs": [
    {
     "data": {
      "text/plain": [
       "(30, 4)"
      ]
     },
     "execution_count": 28,
     "metadata": {},
     "output_type": "execute_result"
    }
   ],
   "source": [
    "X_test.shape"
   ]
  },
  {
   "cell_type": "code",
   "execution_count": null,
   "id": "e580b431-45de-4227-9104-b604a346948f",
   "metadata": {},
   "outputs": [],
   "source": [
    "model_4D = Perceptron(n_iter = 20 )\n",
    "model_4D.fit(X_train,y_train)"
   ]
  },
  {
   "cell_type": "code",
   "execution_count": 32,
   "id": "0face846-0a1b-40a5-bfd4-877365b7bc8a",
   "metadata": {},
   "outputs": [],
   "source": [
    "y_pred = model_4D.predict(X_test)"
   ]
  },
  {
   "cell_type": "code",
   "execution_count": 33,
   "id": "aa2b36ce-6948-4ba5-bbe2-52578d9ee530",
   "metadata": {},
   "outputs": [
    {
     "data": {
      "text/plain": [
       "array([ 1,  1,  1, -1, -1, -1, -1,  1, -1, -1, -1, -1,  1, -1,  1, -1,  1,\n",
       "        1, -1, -1,  1,  1, -1, -1,  1, -1, -1,  1, -1,  1])"
      ]
     },
     "execution_count": 33,
     "metadata": {},
     "output_type": "execute_result"
    }
   ],
   "source": [
    "y_pred"
   ]
  },
  {
   "cell_type": "code",
   "execution_count": 34,
   "id": "c0ffb002-3234-4f45-9749-e6fbc1666efe",
   "metadata": {},
   "outputs": [],
   "source": [
    "from sklearn.metrics import classification_report , confusion_matrix"
   ]
  },
  {
   "cell_type": "code",
   "execution_count": 38,
   "id": "264f4694-17c2-4863-a930-95aa0d58bc75",
   "metadata": {},
   "outputs": [
    {
     "data": {
      "text/plain": [
       "array([[17,  0],\n",
       "       [ 0, 13]], dtype=int64)"
      ]
     },
     "execution_count": 38,
     "metadata": {},
     "output_type": "execute_result"
    }
   ],
   "source": [
    "confusion_matrix(y_test , y_pred)"
   ]
  },
  {
   "cell_type": "code",
   "execution_count": 42,
   "id": "0666a879-e04b-4646-94bf-930c3f8a3cc8",
   "metadata": {},
   "outputs": [
    {
     "name": "stdout",
     "output_type": "stream",
     "text": [
      "              precision    recall  f1-score   support\n",
      "\n",
      "          -1       1.00      1.00      1.00        17\n",
      "           1       1.00      1.00      1.00        13\n",
      "\n",
      "    accuracy                           1.00        30\n",
      "   macro avg       1.00      1.00      1.00        30\n",
      "weighted avg       1.00      1.00      1.00        30\n",
      "\n"
     ]
    }
   ],
   "source": [
    "print(classification_report(y_test , y_pred))"
   ]
  },
  {
   "cell_type": "code",
   "execution_count": 44,
   "id": "36820c61-3397-4ad9-a43d-6269faaaddef",
   "metadata": {},
   "outputs": [
    {
     "data": {
      "text/plain": [
       "[9, 0, 0, 0, 0, 0, 0, 0, 0, 0, 0, 0, 0, 0, 0, 0, 0, 0, 0, 0]"
      ]
     },
     "execution_count": 44,
     "metadata": {},
     "output_type": "execute_result"
    }
   ],
   "source": [
    "model_4D.errors_"
   ]
  },
  {
   "cell_type": "code",
   "execution_count": 45,
   "id": "2da07a37-4b98-47f1-b68f-2b411774c5ef",
   "metadata": {},
   "outputs": [
    {
     "data": {
      "image/png": "[encoded data removed]",
      "text/plain": [
       "<Figure size 432x288 with 1 Axes>"
      ]
     },
     "metadata": {
      "needs_background": "light"
     },
     "output_type": "display_data"
    }
   ],
   "source": [
    "import matplotlib.pyplot as plt\n",
    "\n",
    "plt.plot(range(1,len(model.errors_)+1), model.errors_)\n",
    "plt.show()"
   ]
  },
  {
   "cell_type": "markdown",
   "id": "bf66d0fe-b2ce-41b8-ba6d-2af1a3cce818",
   "metadata": {},
   "source": [
    "## Perceptron- ScikitLearn"
   ]
  },
  {
   "cell_type": "code",
   "execution_count": 38,
   "id": "bbf5edf2-6a39-4793-9d1f-5c3472e29043",
   "metadata": {},
   "outputs": [],
   "source": [
    "import pandas as pd\n",
    "import numpy as np\n",
    "from sklearn.linear_model import Perceptron"
   ]
  },
  {
   "cell_type": "code",
   "execution_count": 39,
   "id": "416c281d-512a-4c33-9b2b-652b342c4161",
   "metadata": {},
   "outputs": [
    {
     "data": {
      "text/html": [
       "<div>\n",
       "<style scoped>\n",
       "    .dataframe tbody tr th:only-of-type {\n",
       "        vertical-align: middle;\n",
       "    }\n",
       "\n",
       "    .dataframe tbody tr th {\n",
       "        vertical-align: top;\n",
       "    }\n",
       "\n",
       "    .dataframe thead th {\n",
       "        text-align: right;\n",
       "    }\n",
       "</style>\n",
       "<table border=\"1\" class=\"dataframe\">\n",
       "  <thead>\n",
       "    <tr style=\"text-align: right;\">\n",
       "      <th></th>\n",
       "      <th>0</th>\n",
       "      <th>1</th>\n",
       "      <th>2</th>\n",
       "      <th>3</th>\n",
       "      <th>4</th>\n",
       "    </tr>\n",
       "  </thead>\n",
       "  <tbody>\n",
       "    <tr>\n",
       "      <th>145</th>\n",
       "      <td>6.7</td>\n",
       "      <td>3.0</td>\n",
       "      <td>5.2</td>\n",
       "      <td>2.3</td>\n",
       "      <td>Iris-virginica</td>\n",
       "    </tr>\n",
       "    <tr>\n",
       "      <th>146</th>\n",
       "      <td>6.3</td>\n",
       "      <td>2.5</td>\n",
       "      <td>5.0</td>\n",
       "      <td>1.9</td>\n",
       "      <td>Iris-virginica</td>\n",
       "    </tr>\n",
       "    <tr>\n",
       "      <th>147</th>\n",
       "      <td>6.5</td>\n",
       "      <td>3.0</td>\n",
       "      <td>5.2</td>\n",
       "      <td>2.0</td>\n",
       "      <td>Iris-virginica</td>\n",
       "    </tr>\n",
       "    <tr>\n",
       "      <th>148</th>\n",
       "      <td>6.2</td>\n",
       "      <td>3.4</td>\n",
       "      <td>5.4</td>\n",
       "      <td>2.3</td>\n",
       "      <td>Iris-virginica</td>\n",
       "    </tr>\n",
       "    <tr>\n",
       "      <th>149</th>\n",
       "      <td>5.9</td>\n",
       "      <td>3.0</td>\n",
       "      <td>5.1</td>\n",
       "      <td>1.8</td>\n",
       "      <td>Iris-virginica</td>\n",
       "    </tr>\n",
       "  </tbody>\n",
       "</table>\n",
       "</div>"
      ],
      "text/plain": [
       "       0    1    2    3               4\n",
       "145  6.7  3.0  5.2  2.3  Iris-virginica\n",
       "146  6.3  2.5  5.0  1.9  Iris-virginica\n",
       "147  6.5  3.0  5.2  2.0  Iris-virginica\n",
       "148  6.2  3.4  5.4  2.3  Iris-virginica\n",
       "149  5.9  3.0  5.1  1.8  Iris-virginica"
      ]
     },
     "execution_count": 39,
     "metadata": {},
     "output_type": "execute_result"
    }
   ],
   "source": [
    "df = pd.read_csv('iris.data', header=None)\n",
    "df.tail()"
   ]
  },
  {
   "cell_type": "code",
   "execution_count": 40,
   "id": "58f8f8d7-00b3-46d1-b583-844c68843afa",
   "metadata": {},
   "outputs": [],
   "source": [
    "y = df.iloc[:, 4].values\n",
    "X = df.iloc[:, 0:4].values"
   ]
  },
  {
   "cell_type": "code",
   "execution_count": 41,
   "id": "76336cd9-4dbb-41ed-8fa6-6808b2e34273",
   "metadata": {},
   "outputs": [],
   "source": [
    "from sklearn.model_selection import train_test_split\n",
    "X_train, X_test, y_train, y_test = train_test_split(X,y,test_size=0.2, random_state = 123)"
   ]
  },
  {
   "cell_type": "markdown",
   "id": "ae936fdd-d100-44eb-af75-b25d4ec66679",
   "metadata": {},
   "source": [
    "1. สร้างโมเดล Perceptron โดยใช้ sklearn \n",
    "2. ทดสอบโมเดล\n",
    "3. หาค่าคะแนนความถูกต้อง"
   ]
  },
  {
   "cell_type": "code",
   "execution_count": 42,
   "id": "4a4416dc-4f59-4d95-88a8-798ca5d98b16",
   "metadata": {},
   "outputs": [],
   "source": [
    "model_per = Perceptron(tol=1e-3, random_state=0)\n",
    "# model_per.fit(..., ...)\n",
    "# model_per.score(..., ...)"
   ]
  },
  {
   "cell_type": "code",
   "execution_count": 43,
   "id": "929c35c1-795a-4794-bd02-056990789b9f",
   "metadata": {},
   "outputs": [
    {
     "data": {
      "text/html": [
       "<style>#sk-container-id-1 {\n",
       "  /* Definition of color scheme common for light and dark mode */\n",
       "  --sklearn-color-text: black;\n",
       "  --sklearn-color-line: gray;\n",
       "  /* Definition of color scheme for unfitted estimators */\n",
       "  --sklearn-color-unfitted-level-0: #fff5e6;\n",
       "  --sklearn-color-unfitted-level-1: #f6e4d2;\n",
       "  --sklearn-color-unfitted-level-2: #ffe0b3;\n",
       "  --sklearn-color-unfitted-level-3: chocolate;\n",
       "  /* Definition of color scheme for fitted estimators */\n",
       "  --sklearn-color-fitted-level-0: #f0f8ff;\n",
       "  --sklearn-color-fitted-level-1: #d4ebff;\n",
       "  --sklearn-color-fitted-level-2: #b3dbfd;\n",
       "  --sklearn-color-fitted-level-3: cornflowerblue;\n",
       "\n",
       "  /* Specific color for light theme */\n",
       "  --sklearn-color-text-on-default-background: var(--sg-text-color, var(--theme-code-foreground, var(--jp-content-font-color1, black)));\n",
       "  --sklearn-color-background: var(--sg-background-color, var(--theme-background, var(--jp-layout-color0, white)));\n",
       "  --sklearn-color-border-box: var(--sg-text-color, var(--theme-code-foreground, var(--jp-content-font-color1, black)));\n",
       "  --sklearn-color-icon: #696969;\n",
       "\n",
       "  @media (prefers-color-scheme: dark) {\n",
       "    /* Redefinition of color scheme for dark theme */\n",
       "    --sklearn-color-text-on-default-background: var(--sg-text-color, var(--theme-code-foreground, var(--jp-content-font-color1, white)));\n",
       "    --sklearn-color-background: var(--sg-background-color, var(--theme-background, var(--jp-layout-color0, #111)));\n",
       "    --sklearn-color-border-box: var(--sg-text-color, var(--theme-code-foreground, var(--jp-content-font-color1, white)));\n",
       "    --sklearn-color-icon: #878787;\n",
       "  }\n",
       "}\n",
       "\n",
       "#sk-container-id-1 {\n",
       "  color: var(--sklearn-color-text);\n",
       "}\n",
       "\n",
       "#sk-container-id-1 pre {\n",
       "  padding: 0;\n",
       "}\n",
       "\n",
       "#sk-container-id-1 input.sk-hidden--visually {\n",
       "  border: 0;\n",
       "  clip: rect(1px 1px 1px 1px);\n",
       "  clip: rect(1px, 1px, 1px, 1px);\n",
       "  height: 1px;\n",
       "  margin: -1px;\n",
       "  overflow: hidden;\n",
       "  padding: 0;\n",
       "  position: absolute;\n",
       "  width: 1px;\n",
       "}\n",
       "\n",
       "#sk-container-id-1 div.sk-dashed-wrapped {\n",
       "  border: 1px dashed var(--sklearn-color-line);\n",
       "  margin: 0 0.4em 0.5em 0.4em;\n",
       "  box-sizing: border-box;\n",
       "  padding-bottom: 0.4em;\n",
       "  background-color: var(--sklearn-color-background);\n",
       "}\n",
       "\n",
       "#sk-container-id-1 div.sk-container {\n",
       "  /* jupyter's `normalize.less` sets `[hidden] { display: none; }`\n",
       "     but bootstrap.min.css set `[hidden] { display: none !important; }`\n",
       "     so we also need the `!important` here to be able to override the\n",
       "     default hidden behavior on the sphinx rendered scikit-learn.org.\n",
       "     See: https://github.com/scikit-learn/scikit-learn/issues/21755 */\n",
       "  display: inline-block !important;\n",
       "  position: relative;\n",
       "}\n",
       "\n",
       "#sk-container-id-1 div.sk-text-repr-fallback {\n",
       "  display: none;\n",
       "}\n",
       "\n",
       "div.sk-parallel-item,\n",
       "div.sk-serial,\n",
       "div.sk-item {\n",
       "  /* draw centered vertical line to link estimators */\n",
       "  background-image: linear-gradient(var(--sklearn-color-text-on-default-background), var(--sklearn-color-text-on-default-background));\n",
       "  background-size: 2px 100%;\n",
       "  background-repeat: no-repeat;\n",
       "  background-position: center center;\n",
       "}\n",
       "\n",
       "/* Parallel-specific style estimator block */\n",
       "\n",
       "#sk-container-id-1 div.sk-parallel-item::after {\n",
       "  content: \"\";\n",
       "  width: 100%;\n",
       "  border-bottom: 2px solid var(--sklearn-color-text-on-default-background);\n",
       "  flex-grow: 1;\n",
       "}\n",
       "\n",
       "#sk-container-id-1 div.sk-parallel {\n",
       "  display: flex;\n",
       "  align-items: stretch;\n",
       "  justify-content: center;\n",
       "  background-color: var(--sklearn-color-background);\n",
       "  position: relative;\n",
       "}\n",
       "\n",
       "#sk-container-id-1 div.sk-parallel-item {\n",
       "  display: flex;\n",
       "  flex-direction: column;\n",
       "}\n",
       "\n",
       "#sk-container-id-1 div.sk-parallel-item:first-child::after {\n",
       "  align-self: flex-end;\n",
       "  width: 50%;\n",
       "}\n",
       "\n",
       "#sk-container-id-1 div.sk-parallel-item:last-child::after {\n",
       "  align-self: flex-start;\n",
       "  width: 50%;\n",
       "}\n",
       "\n",
       "#sk-container-id-1 div.sk-parallel-item:only-child::after {\n",
       "  width: 0;\n",
       "}\n",
       "\n",
       "/* Serial-specific style estimator block */\n",
       "\n",
       "#sk-container-id-1 div.sk-serial {\n",
       "  display: flex;\n",
       "  flex-direction: column;\n",
       "  align-items: center;\n",
       "  background-color: var(--sklearn-color-background);\n",
       "  padding-right: 1em;\n",
       "  padding-left: 1em;\n",
       "}\n",
       "\n",
       "\n",
       "/* Toggleable style: style used for estimator/Pipeline/ColumnTransformer box that is\n",
       "clickable and can be expanded/collapsed.\n",
       "- Pipeline and ColumnTransformer use this feature and define the default style\n",
       "- Estimators will overwrite some part of the style using the `sk-estimator` class\n",
       "*/\n",
       "\n",
       "/* Pipeline and ColumnTransformer style (default) */\n",
       "\n",
       "#sk-container-id-1 div.sk-toggleable {\n",
       "  /* Default theme specific background. It is overwritten whether we have a\n",
       "  specific estimator or a Pipeline/ColumnTransformer */\n",
       "  background-color: var(--sklearn-color-background);\n",
       "}\n",
       "\n",
       "/* Toggleable label */\n",
       "#sk-container-id-1 label.sk-toggleable__label {\n",
       "  cursor: pointer;\n",
       "  display: block;\n",
       "  width: 100%;\n",
       "  margin-bottom: 0;\n",
       "  padding: 0.5em;\n",
       "  box-sizing: border-box;\n",
       "  text-align: center;\n",
       "}\n",
       "\n",
       "#sk-container-id-1 label.sk-toggleable__label-arrow:before {\n",
       "  /* Arrow on the left of the label */\n",
       "  content: \"▸\";\n",
       "  float: left;\n",
       "  margin-right: 0.25em;\n",
       "  color: var(--sklearn-color-icon);\n",
       "}\n",
       "\n",
       "#sk-container-id-1 label.sk-toggleable__label-arrow:hover:before {\n",
       "  color: var(--sklearn-color-text);\n",
       "}\n",
       "\n",
       "/* Toggleable content - dropdown */\n",
       "\n",
       "#sk-container-id-1 div.sk-toggleable__content {\n",
       "  max-height: 0;\n",
       "  max-width: 0;\n",
       "  overflow: hidden;\n",
       "  text-align: left;\n",
       "  /* unfitted */\n",
       "  background-color: var(--sklearn-color-unfitted-level-0);\n",
       "}\n",
       "\n",
       "#sk-container-id-1 div.sk-toggleable__content.fitted {\n",
       "  /* fitted */\n",
       "  background-color: var(--sklearn-color-fitted-level-0);\n",
       "}\n",
       "\n",
       "#sk-container-id-1 div.sk-toggleable__content pre {\n",
       "  margin: 0.2em;\n",
       "  border-radius: 0.25em;\n",
       "  color: var(--sklearn-color-text);\n",
       "  /* unfitted */\n",
       "  background-color: var(--sklearn-color-unfitted-level-0);\n",
       "}\n",
       "\n",
       "#sk-container-id-1 div.sk-toggleable__content.fitted pre {\n",
       "  /* unfitted */\n",
       "  background-color: var(--sklearn-color-fitted-level-0);\n",
       "}\n",
       "\n",
       "#sk-container-id-1 input.sk-toggleable__control:checked~div.sk-toggleable__content {\n",
       "  /* Expand drop-down */\n",
       "  max-height: 200px;\n",
       "  max-width: 100%;\n",
       "  overflow: auto;\n",
       "}\n",
       "\n",
       "#sk-container-id-1 input.sk-toggleable__control:checked~label.sk-toggleable__label-arrow:before {\n",
       "  content: \"▾\";\n",
       "}\n",
       "\n",
       "/* Pipeline/ColumnTransformer-specific style */\n",
       "\n",
       "#sk-container-id-1 div.sk-label input.sk-toggleable__control:checked~label.sk-toggleable__label {\n",
       "  color: var(--sklearn-color-text);\n",
       "  background-color: var(--sklearn-color-unfitted-level-2);\n",
       "}\n",
       "\n",
       "#sk-container-id-1 div.sk-label.fitted input.sk-toggleable__control:checked~label.sk-toggleable__label {\n",
       "  background-color: var(--sklearn-color-fitted-level-2);\n",
       "}\n",
       "\n",
       "/* Estimator-specific style */\n",
       "\n",
       "/* Colorize estimator box */\n",
       "#sk-container-id-1 div.sk-estimator input.sk-toggleable__control:checked~label.sk-toggleable__label {\n",
       "  /* unfitted */\n",
       "  background-color: var(--sklearn-color-unfitted-level-2);\n",
       "}\n",
       "\n",
       "#sk-container-id-1 div.sk-estimator.fitted input.sk-toggleable__control:checked~label.sk-toggleable__label {\n",
       "  /* fitted */\n",
       "  background-color: var(--sklearn-color-fitted-level-2);\n",
       "}\n",
       "\n",
       "#sk-container-id-1 div.sk-label label.sk-toggleable__label,\n",
       "#sk-container-id-1 div.sk-label label {\n",
       "  /* The background is the default theme color */\n",
       "  color: var(--sklearn-color-text-on-default-background);\n",
       "}\n",
       "\n",
       "/* On hover, darken the color of the background */\n",
       "#sk-container-id-1 div.sk-label:hover label.sk-toggleable__label {\n",
       "  color: var(--sklearn-color-text);\n",
       "  background-color: var(--sklearn-color-unfitted-level-2);\n",
       "}\n",
       "\n",
       "/* Label box, darken color on hover, fitted */\n",
       "#sk-container-id-1 div.sk-label.fitted:hover label.sk-toggleable__label.fitted {\n",
       "  color: var(--sklearn-color-text);\n",
       "  background-color: var(--sklearn-color-fitted-level-2);\n",
       "}\n",
       "\n",
       "/* Estimator label */\n",
       "\n",
       "#sk-container-id-1 div.sk-label label {\n",
       "  font-family: monospace;\n",
       "  font-weight: bold;\n",
       "  display: inline-block;\n",
       "  line-height: 1.2em;\n",
       "}\n",
       "\n",
       "#sk-container-id-1 div.sk-label-container {\n",
       "  text-align: center;\n",
       "}\n",
       "\n",
       "/* Estimator-specific */\n",
       "#sk-container-id-1 div.sk-estimator {\n",
       "  font-family: monospace;\n",
       "  border: 1px dotted var(--sklearn-color-border-box);\n",
       "  border-radius: 0.25em;\n",
       "  box-sizing: border-box;\n",
       "  margin-bottom: 0.5em;\n",
       "  /* unfitted */\n",
       "  background-color: var(--sklearn-color-unfitted-level-0);\n",
       "}\n",
       "\n",
       "#sk-container-id-1 div.sk-estimator.fitted {\n",
       "  /* fitted */\n",
       "  background-color: var(--sklearn-color-fitted-level-0);\n",
       "}\n",
       "\n",
       "/* on hover */\n",
       "#sk-container-id-1 div.sk-estimator:hover {\n",
       "  /* unfitted */\n",
       "  background-color: var(--sklearn-color-unfitted-level-2);\n",
       "}\n",
       "\n",
       "#sk-container-id-1 div.sk-estimator.fitted:hover {\n",
       "  /* fitted */\n",
       "  background-color: var(--sklearn-color-fitted-level-2);\n",
       "}\n",
       "\n",
       "/* Specification for estimator info (e.g. \"i\" and \"?\") */\n",
       "\n",
       "/* Common style for \"i\" and \"?\" */\n",
       "\n",
       ".sk-estimator-doc-link,\n",
       "a:link.sk-estimator-doc-link,\n",
       "a:visited.sk-estimator-doc-link {\n",
       "  float: right;\n",
       "  font-size: smaller;\n",
       "  line-height: 1em;\n",
       "  font-family: monospace;\n",
       "  background-color: var(--sklearn-color-background);\n",
       "  border-radius: 1em;\n",
       "  height: 1em;\n",
       "  width: 1em;\n",
       "  text-decoration: none !important;\n",
       "  margin-left: 1ex;\n",
       "  /* unfitted */\n",
       "  border: var(--sklearn-color-unfitted-level-1) 1pt solid;\n",
       "  color: var(--sklearn-color-unfitted-level-1);\n",
       "}\n",
       "\n",
       ".sk-estimator-doc-link.fitted,\n",
       "a:link.sk-estimator-doc-link.fitted,\n",
       "a:visited.sk-estimator-doc-link.fitted {\n",
       "  /* fitted */\n",
       "  border: var(--sklearn-color-fitted-level-1) 1pt solid;\n",
       "  color: var(--sklearn-color-fitted-level-1);\n",
       "}\n",
       "\n",
       "/* On hover */\n",
       "div.sk-estimator:hover .sk-estimator-doc-link:hover,\n",
       ".sk-estimator-doc-link:hover,\n",
       "div.sk-label-container:hover .sk-estimator-doc-link:hover,\n",
       ".sk-estimator-doc-link:hover {\n",
       "  /* unfitted */\n",
       "  background-color: var(--sklearn-color-unfitted-level-3);\n",
       "  color: var(--sklearn-color-background);\n",
       "  text-decoration: none;\n",
       "}\n",
       "\n",
       "div.sk-estimator.fitted:hover .sk-estimator-doc-link.fitted:hover,\n",
       ".sk-estimator-doc-link.fitted:hover,\n",
       "div.sk-label-container:hover .sk-estimator-doc-link.fitted:hover,\n",
       ".sk-estimator-doc-link.fitted:hover {\n",
       "  /* fitted */\n",
       "  background-color: var(--sklearn-color-fitted-level-3);\n",
       "  color: var(--sklearn-color-background);\n",
       "  text-decoration: none;\n",
       "}\n",
       "\n",
       "/* Span, style for the box shown on hovering the info icon */\n",
       ".sk-estimator-doc-link span {\n",
       "  display: none;\n",
       "  z-index: 9999;\n",
       "  position: relative;\n",
       "  font-weight: normal;\n",
       "  right: .2ex;\n",
       "  padding: .5ex;\n",
       "  margin: .5ex;\n",
       "  width: min-content;\n",
       "  min-width: 20ex;\n",
       "  max-width: 50ex;\n",
       "  color: var(--sklearn-color-text);\n",
       "  box-shadow: 2pt 2pt 4pt #999;\n",
       "  /* unfitted */\n",
       "  background: var(--sklearn-color-unfitted-level-0);\n",
       "  border: .5pt solid var(--sklearn-color-unfitted-level-3);\n",
       "}\n",
       "\n",
       ".sk-estimator-doc-link.fitted span {\n",
       "  /* fitted */\n",
       "  background: var(--sklearn-color-fitted-level-0);\n",
       "  border: var(--sklearn-color-fitted-level-3);\n",
       "}\n",
       "\n",
       ".sk-estimator-doc-link:hover span {\n",
       "  display: block;\n",
       "}\n",
       "\n",
       "/* \"?\"-specific style due to the `<a>` HTML tag */\n",
       "\n",
       "#sk-container-id-1 a.estimator_doc_link {\n",
       "  float: right;\n",
       "  font-size: 1rem;\n",
       "  line-height: 1em;\n",
       "  font-family: monospace;\n",
       "  background-color: var(--sklearn-color-background);\n",
       "  border-radius: 1rem;\n",
       "  height: 1rem;\n",
       "  width: 1rem;\n",
       "  text-decoration: none;\n",
       "  /* unfitted */\n",
       "  color: var(--sklearn-color-unfitted-level-1);\n",
       "  border: var(--sklearn-color-unfitted-level-1) 1pt solid;\n",
       "}\n",
       "\n",
       "#sk-container-id-1 a.estimator_doc_link.fitted {\n",
       "  /* fitted */\n",
       "  border: var(--sklearn-color-fitted-level-1) 1pt solid;\n",
       "  color: var(--sklearn-color-fitted-level-1);\n",
       "}\n",
       "\n",
       "/* On hover */\n",
       "#sk-container-id-1 a.estimator_doc_link:hover {\n",
       "  /* unfitted */\n",
       "  background-color: var(--sklearn-color-unfitted-level-3);\n",
       "  color: var(--sklearn-color-background);\n",
       "  text-decoration: none;\n",
       "}\n",
       "\n",
       "#sk-container-id-1 a.estimator_doc_link.fitted:hover {\n",
       "  /* fitted */\n",
       "  background-color: var(--sklearn-color-fitted-level-3);\n",
       "}\n",
       "</style><div id=\"sk-container-id-1\" class=\"sk-top-container\"><div class=\"sk-text-repr-fallback\"><pre>Perceptron()</pre><b>In a Jupyter environment, please rerun this cell to show the HTML representation or trust the notebook. <br />On GitHub, the HTML representation is unable to render, please try loading this page with nbviewer.org.</b></div><div class=\"sk-container\" hidden><div class=\"sk-item\"><div class=\"sk-estimator fitted sk-toggleable\"><input class=\"sk-toggleable__control sk-hidden--visually\" id=\"sk-estimator-id-1\" type=\"checkbox\" checked><label for=\"sk-estimator-id-1\" class=\"sk-toggleable__label fitted sk-toggleable__label-arrow fitted\">&nbsp;&nbsp;Perceptron<a class=\"sk-estimator-doc-link fitted\" rel=\"noreferrer\" target=\"_blank\" href=\"https://scikit-learn.org/1.4/modules/generated/sklearn.linear_model.Perceptron.html\">?<span>Documentation for Perceptron</span></a><span class=\"sk-estimator-doc-link fitted\">i<span>Fitted</span></span></label><div class=\"sk-toggleable__content fitted\"><pre>Perceptron()</pre></div> </div></div></div></div>"
      ],
      "text/plain": [
       "Perceptron()"
      ]
     },
     "execution_count": 43,
     "metadata": {},
     "output_type": "execute_result"
    }
   ],
   "source": [
    "model_per.fit(X_train , y_train)"
   ]
  },
  {
   "cell_type": "code",
   "execution_count": 44,
   "id": "28daa528-8fe8-4660-b0fb-ab73ae6f355c",
   "metadata": {},
   "outputs": [
    {
     "data": {
      "text/plain": [
       "0.8333333333333334"
      ]
     },
     "execution_count": 44,
     "metadata": {},
     "output_type": "execute_result"
    }
   ],
   "source": [
    "model_per.score(X_test , y_test)"
   ]
  },
  {
   "cell_type": "code",
   "execution_count": 45,
   "id": "eaece2b0-c835-40ee-a801-65cd3b487f6b",
   "metadata": {},
   "outputs": [],
   "source": [
    "y_pred = model_per.predict(X_test)"
   ]
  },
  {
   "cell_type": "code",
   "execution_count": 46,
   "id": "291fc0fe-db5f-41e3-922a-75919d4b341a",
   "metadata": {},
   "outputs": [
    {
     "data": {
      "text/plain": [
       "array(['Iris-versicolor', 'Iris-virginica', 'Iris-virginica',\n",
       "       'Iris-versicolor', 'Iris-versicolor', 'Iris-virginica',\n",
       "       'Iris-versicolor', 'Iris-setosa', 'Iris-versicolor',\n",
       "       'Iris-versicolor', 'Iris-virginica', 'Iris-setosa',\n",
       "       'Iris-versicolor', 'Iris-virginica', 'Iris-virginica',\n",
       "       'Iris-virginica', 'Iris-setosa', 'Iris-setosa', 'Iris-versicolor',\n",
       "       'Iris-versicolor', 'Iris-setosa', 'Iris-versicolor', 'Iris-setosa',\n",
       "       'Iris-virginica', 'Iris-setosa', 'Iris-versicolor', 'Iris-setosa',\n",
       "       'Iris-virginica', 'Iris-virginica', 'Iris-setosa'], dtype='<U15')"
      ]
     },
     "execution_count": 46,
     "metadata": {},
     "output_type": "execute_result"
    }
   ],
   "source": [
    "y_pred"
   ]
  },
  {
   "cell_type": "code",
   "execution_count": 52,
   "id": "e0552fad-0c39-4b03-b6f2-1fe5e178b68b",
   "metadata": {},
   "outputs": [],
   "source": [
    "pickle.dump(model_per, open('per_model-66130701724.sav', 'wb'))"
   ]
  },
  {
   "cell_type": "markdown",
   "id": "820f2e3b-e182-433e-9b6f-ef77b2ce7b5b",
   "metadata": {},
   "source": [
    "4. บันทึก model ที่สร้างขึ้น "
   ]
  },
  {
   "cell_type": "code",
   "execution_count": 55,
   "id": "204bcc87-820e-454d-a547-601838967327",
   "metadata": {},
   "outputs": [
    {
     "name": "stdout",
     "output_type": "stream",
     "text": [
      "Overwriting ass3-app-66130701724.py\n"
     ]
    }
   ],
   "source": [
    "%%writefile ass3-app-66130701724.py\n",
    "\n",
    "import numpy as np\n",
    "import streamlit as st\n",
    "\n",
    "import pickle\n",
    "\n",
    "import streamlit as st\n",
    "import numpy as np\n",
    "from sklearn.linear_model import Perceptron\n",
    "import pickle\n",
    "\n",
    "model = pickle.load(open('per_model-66130701724.sav', 'rb'))\n",
    "st.title('Iris Flower Prediction App')\n",
    " \n",
    "x1 = st.slider('Sepal Length', 0.0, 10.0, 0.1)\n",
    "x2 = st.slider('Sepal Width', 0.0, 10.0, 0.1)\n",
    "x3 = st.slider('Petal Length', 0.0, 10.0, 0.1)\n",
    "x4 = st.slider('Petal Width', 0.0, 10.0, 0.1)\n",
    " \n",
    "input_data = np.array([[x1, x2, x3, x4]]).reshape(1, -1)\n",
    " \n",
    "\n",
    "predict = model.predict(input_data)\n",
    "st.write('## Predict Result')\n",
    "st.write('Species:', predict[0])"
   ]
  },
  {
   "cell_type": "markdown",
   "id": "07db4ffe-4d5e-4940-9264-48a463bf2f7e",
   "metadata": {},
   "source": [
    "### Deploy with streamlit "
   ]
  },
  {
   "cell_type": "code",
   "execution_count": null,
   "id": "81d711c7-3e9e-4253-9f38-5cc10d1d1219",
   "metadata": {},
   "outputs": [],
   "source": []
  }
 ],
 "metadata": {
  "kernelspec": {
   "display_name": "Python 3 (ipykernel)",
   "language": "python",
   "name": "python3"
  },
  "language_info": {
   "codemirror_mode": {
    "name": "ipython",
    "version": 3
   },
   "file_extension": ".py",
   "mimetype": "text/x-python",
   "name": "python",
   "nbconvert_exporter": "python",
   "pygments_lexer": "ipython3",
   "version": "3.11.4"
  }
 },
 "nbformat": 4,
 "nbformat_minor": 5
}
